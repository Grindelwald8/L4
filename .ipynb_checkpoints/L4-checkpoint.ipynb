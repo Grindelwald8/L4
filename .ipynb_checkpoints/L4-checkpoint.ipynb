{
 "cells": [
  {
   "cell_type": "code",
   "execution_count": 28,
   "metadata": {},
   "outputs": [
    {
     "name": "stdout",
     "output_type": "stream",
     "text": [
      "tensorflow\n"
     ]
    }
   ],
   "source": [
    "import os\n",
    "os.environ[\"KERAS_BACKEND\"] = \"tensorflow\"\n",
    "kerasBKED = os.environ[\"KERAS_BACKEND\"] \n",
    "print(kerasBKED)"
   ]
  },
  {
   "cell_type": "code",
   "execution_count": 29,
   "metadata": {},
   "outputs": [],
   "source": [
    "import keras\n",
    "from keras.models import load_model\n",
    "from keras.datasets import cifar10\n",
    "from keras.preprocessing.image import ImageDataGenerator\n",
    "from keras.models import Sequential\n",
    "from keras.layers import Dense, Dropout, Activation, Flatten\n",
    "from keras.layers import Conv2D, MaxPooling2D\n",
    "from keras.callbacks import EarlyStopping, ModelCheckpoint\n",
    "import os\n",
    "import pickle\n",
    "import numpy as np"
   ]
  },
  {
   "cell_type": "code",
   "execution_count": 30,
   "metadata": {},
   "outputs": [],
   "source": [
    "#32x32 photos\n",
    "batch_size = 32\n",
    "num_classes = 10\n",
    "epochs = 10\n",
    "saveDir = \"/opt/files/python/transfer/cifar10/\"\n",
    "if not os.path.isdir(saveDir):\n",
    "    os.makedirs(saveDir)"
   ]
  },
  {
   "cell_type": "code",
   "execution_count": 31,
   "metadata": {},
   "outputs": [],
   "source": [
    "(x_train, y_train), (x_test, y_test) = cifar10.load_data()"
   ]
  },
  {
   "cell_type": "code",
   "execution_count": 32,
   "metadata": {},
   "outputs": [
    {
     "name": "stdout",
     "output_type": "stream",
     "text": [
      "x_train shape: (500, 32, 32, 3)\n",
      "500 train samples\n",
      "200 test samples\n"
     ]
    }
   ],
   "source": [
    "x_train, y_train = x_train[:500], y_train[:500]\n",
    "x_test, y_test = x_test[:200], y_test[:200]\n",
    "print('x_train shape:', x_train.shape)\n",
    "print(x_train.shape[0], 'train samples')\n",
    "print(x_test.shape[0], 'test samples')"
   ]
  },
  {
   "cell_type": "code",
   "execution_count": 33,
   "metadata": {},
   "outputs": [],
   "source": [
    "#обозначаем истинные элементы\n",
    "y_traincl = keras.utils.to_categorical(y_train, num_classes)\n",
    "y_testcl = keras.utils.to_categorical(y_test, num_classes)\n",
    "\n",
    "x_train = x_train.astype('float32')\n",
    "x_test = x_test.astype('float32')\n",
    "\n",
    "x_train /= 255\n",
    "x_test /= 255"
   ]
  },
  {
   "cell_type": "code",
   "execution_count": null,
   "metadata": {},
   "outputs": [],
   "source": [
    "print(y_traincl[:10])\n",
    "print(x_train[:10])"
   ]
  },
  {
   "cell_type": "code",
   "execution_count": 38,
   "metadata": {},
   "outputs": [],
   "source": [
    "featureLayer1=[Conv2D(64, (3, 3), padding='same',input_shape=x_train.shape[1:]),\n",
    "               Activation('relu'),\n",
    "               Conv2D(64, (3, 3), padding='same'),\n",
    "               Activation('relu'),\n",
    "               MaxPooling2D(pool_size=(2, 2)),\n",
    "               Dropout(0.25)]\n",
    "\n",
    "featureLayer2=[Conv2D(128, (3, 3), padding='same'),\n",
    "               Activation('relu'),\n",
    "               Conv2D(256, (3, 3), padding='same'),\n",
    "               Activation('relu'),\n",
    "               MaxPooling2D(pool_size=(2, 2)),\n",
    "               Dropout(0.25)]\n",
    "\n",
    "featureLayer3=[Conv2D(128, (3, 3), padding='same'),\n",
    "               Activation('relu'),\n",
    "               Conv2D(1024, (3, 3), padding='same'),\n",
    "               Activation('relu'),\n",
    "               Conv2D(1024, (3, 3), padding='same'),\n",
    "               Activation('relu'),\n",
    "               MaxPooling2D(pool_size=(2, 2)),\n",
    "               Dropout(0.25)]\n",
    "\n",
    "fullConnLayer=[Flatten(),\n",
    "               Dense(512),\n",
    "               Activation('relu'),\n",
    "               Dropout(0.5),\n",
    "               Dense(512),\n",
    "               Activation('relu'),\n",
    "               Dropout(0.5)]\n",
    "\n",
    "classificationLayer=[Dense(num_classes),\n",
    "                     Activation('softmax')]\n",
    "\n",
    "model = Sequential(featureLayer1 + featureLayer2 + featureLayer3 + fullConnLayer + classificationLayer)"
   ]
  },
  {
   "cell_type": "code",
   "execution_count": 39,
   "metadata": {},
   "outputs": [],
   "source": [
    "from IPython.display import SVG\n",
    "from keras.utils.vis_utils import model_to_dot\n",
    "\n",
    "#plot_model(model, to_file=os.path.join(saveDir, 'model.png'))\n",
    "#SVG(model_to_dot(model).create(prog='dot', format='svg'))"
   ]
  },
  {
   "cell_type": "code",
   "execution_count": 40,
   "metadata": {},
   "outputs": [],
   "source": [
    "opt = keras.optimizers.adam()\n",
    "\n",
    "model.compile(loss='categorical_crossentropy',\n",
    "              optimizer=opt,\n",
    "              metrics=['accuracy'])\n",
    "\n",
    "es_cb = EarlyStopping(monitor='val_loss', patience=2, verbose=1, mode='auto')"
   ]
  },
  {
   "cell_type": "code",
   "execution_count": 41,
   "metadata": {},
   "outputs": [
    {
     "name": "stdout",
     "output_type": "stream",
     "text": [
      "Train on 500 samples, validate on 200 samples\n",
      "Epoch 1/2\n",
      "500/500 [==============================] - 140s 281ms/step - loss: 2.3344 - accuracy: 0.1060 - val_loss: 2.3068 - val_accuracy: 0.0700\n",
      "Epoch 2/2\n",
      "500/500 [==============================] - 116s 232ms/step - loss: 2.2996 - accuracy: 0.1180 - val_loss: 2.3046 - val_accuracy: 0.0700\n"
     ]
    }
   ],
   "source": [
    "\n",
    "history = model.fit(x_train, y_traincl,\n",
    "                    batch_size=batch_size,\n",
    "                    epochs=2,\n",
    "                    verbose=1,\n",
    "                    validation_data=(x_test, y_testcl),\n",
    "                    callbacks=[es_cb],\n",
    "                    shuffle=True)"
   ]
  },
  {
   "cell_type": "code",
   "execution_count": 42,
   "metadata": {},
   "outputs": [
    {
     "name": "stdout",
     "output_type": "stream",
     "text": [
      "Test loss: 2.3046207523345945\n",
      "Test accuracy: 0.07000000029802322\n"
     ]
    }
   ],
   "source": [
    "\n",
    "score = model.evaluate(x_test, y_testcl, verbose=0)\n",
    "print('Test loss:', score[0])\n",
    "print('Test accuracy:', score[1])"
   ]
  },
  {
   "cell_type": "code",
   "execution_count": 12,
   "metadata": {},
   "outputs": [],
   "source": [
    "# reshape testing target to fit to scikit-learn metric form\n",
    "y_testPred = model.predict(x_test)\n",
    "y_testP = []\n",
    "for x in y_testPred:\n",
    "    y_testP.append(x.argmax())\n",
    "y_testP = np.array(y_testP)"
   ]
  },
  {
   "cell_type": "code",
   "execution_count": 16,
   "metadata": {},
   "outputs": [],
   "source": [
    "import pandas as pd\n",
    "import seaborn as sn\n",
    "import matplotlib.pyplot as plt\n",
    "from sklearn.metrics import confusion_matrix\n",
    "\n",
    "def print_cmx(y_true, y_pred):\n",
    "    labels = sorted(list(set(y_true)))\n",
    "    cmx_data = confusion_matrix(y_true, y_pred, labels=labels)\n",
    "    \n",
    "    df_cmx = pd.DataFrame(cmx_data, index=labels, columns=labels)\n",
    "\n",
    "    plt.figure(figsize = (10,7))\n",
    "    sn.heatmap(df_cmx, annot=True)\n",
    "    plt.show()"
   ]
  },
  {
   "cell_type": "code",
   "execution_count": 14,
   "metadata": {},
   "outputs": [
    {
     "data": {
      "image/png": "[encoded data removed]",
      "text/plain": [
       "<Figure size 720x504 with 2 Axes>"
      ]
     },
     "metadata": {
      "needs_background": "light"
     },
     "output_type": "display_data"
    },
    {
     "name": "stdout",
     "output_type": "stream",
     "text": [
      "              precision    recall  f1-score   support\n",
      "\n",
      "           0       0.00      0.00      0.00        20\n",
      "           1       0.07      1.00      0.13        14\n",
      "           2       0.00      0.00      0.00        21\n",
      "           3       0.00      0.00      0.00        19\n",
      "           4       0.00      0.00      0.00        15\n",
      "           5       0.00      0.00      0.00        18\n",
      "           6       0.00      0.00      0.00        26\n",
      "           7       0.00      0.00      0.00        18\n",
      "           8       0.00      0.00      0.00        28\n",
      "           9       0.00      0.00      0.00        21\n",
      "\n",
      "    accuracy                           0.07       200\n",
      "   macro avg       0.01      0.10      0.01       200\n",
      "weighted avg       0.00      0.07      0.01       200\n",
      "\n",
      "Accuracy: 0.07\n"
     ]
    },
    {
     "name": "stderr",
     "output_type": "stream",
     "text": [
      "C:\\Users\\User\\AppData\\Roaming\\Python\\Python37\\site-packages\\sklearn\\metrics\\_classification.py:1221: UndefinedMetricWarning: Precision and F-score are ill-defined and being set to 0.0 in labels with no predicted samples. Use `zero_division` parameter to control this behavior.\n",
      "  _warn_prf(average, modifier, msg_start, len(result))\n",
      "C:\\Users\\User\\AppData\\Roaming\\Python\\Python37\\site-packages\\sklearn\\metrics\\_classification.py:1221: UndefinedMetricWarning: Precision and F-score are ill-defined and being set to 0.0 in labels with no predicted samples. Use `zero_division` parameter to control this behavior.\n",
      "  _warn_prf(average, modifier, msg_start, len(result))\n",
      "C:\\Users\\User\\AppData\\Roaming\\Python\\Python37\\site-packages\\sklearn\\metrics\\_classification.py:1221: UndefinedMetricWarning: Precision and F-score are ill-defined and being set to 0.0 in labels with no predicted samples. Use `zero_division` parameter to control this behavior.\n",
      "  _warn_prf(average, modifier, msg_start, len(result))\n"
     ]
    }
   ],
   "source": [
    "# get confusion matrix, classification report and accuracy score\n",
    "from sklearn.metrics import classification_report, accuracy_score\n",
    "\n",
    "print_cmx(y_test.T[0], y_testP)\n",
    "print(classification_report(y_test.T[0], y_testP))\n",
    "print(\"Accuracy: {0}\".format(accuracy_score(y_test.T[0], y_testP)))"
   ]
  },
  {
   "cell_type": "code",
   "execution_count": 2,
   "metadata": {},
   "outputs": [],
   "source": [
    "from tensorflow.keras.datasets import cifar100"
   ]
  },
  {
   "cell_type": "code",
   "execution_count": 3,
   "metadata": {},
   "outputs": [
    {
     "name": "stdout",
     "output_type": "stream",
     "text": [
      "Downloading data from https://www.cs.toronto.edu/~kriz/cifar-100-python.tar.gz\n",
      "169009152/169001437 [==============================] - 366s 2us/step\n"
     ]
    }
   ],
   "source": [
    "(input_train, train_labels_dev), (input_test, target_test) = cifar100.load_data()"
   ]
  },
  {
   "cell_type": "code",
   "execution_count": 7,
   "metadata": {},
   "outputs": [
    {
     "name": "stdout",
     "output_type": "stream",
     "text": [
      "[[19]]\n"
     ]
    }
   ],
   "source": [
    "print(target_train[:1])"
   ]
  },
  {
   "cell_type": "code",
   "execution_count": 9,
   "metadata": {},
   "outputs": [],
   "source": [
    "mask_train = np.in1d(input_train, [1,2,3,4])"
   ]
  },
  {
   "cell_type": "code",
   "execution_count": 12,
   "metadata": {},
   "outputs": [
    {
     "ename": "ValueError",
     "evalue": "The truth value of an array with more than one element is ambiguous. Use a.any() or a.all()",
     "output_type": "error",
     "traceback": [
      "\u001b[1;31m---------------------------------------------------------------------------\u001b[0m",
      "\u001b[1;31mValueError\u001b[0m                                Traceback (most recent call last)",
      "\u001b[1;32m<ipython-input-12-d26e83d5f30c>\u001b[0m in \u001b[0;36m<module>\u001b[1;34m\u001b[0m\n\u001b[0;32m      1\u001b[0m \u001b[0munique\u001b[0m \u001b[1;33m=\u001b[0m \u001b[1;33m[\u001b[0m\u001b[1;33m]\u001b[0m\u001b[1;33m\u001b[0m\u001b[1;33m\u001b[0m\u001b[0m\n\u001b[0;32m      2\u001b[0m \u001b[1;32mfor\u001b[0m \u001b[0mnumber\u001b[0m \u001b[1;32min\u001b[0m \u001b[0minput_train\u001b[0m\u001b[1;33m:\u001b[0m\u001b[1;33m\u001b[0m\u001b[1;33m\u001b[0m\u001b[0m\n\u001b[1;32m----> 3\u001b[1;33m     \u001b[1;32mif\u001b[0m \u001b[0mnumber\u001b[0m \u001b[1;32min\u001b[0m \u001b[0munique\u001b[0m\u001b[1;33m:\u001b[0m\u001b[1;33m\u001b[0m\u001b[1;33m\u001b[0m\u001b[0m\n\u001b[0m\u001b[0;32m      4\u001b[0m         \u001b[1;32mcontinue\u001b[0m\u001b[1;33m\u001b[0m\u001b[1;33m\u001b[0m\u001b[0m\n\u001b[0;32m      5\u001b[0m     \u001b[1;32melse\u001b[0m\u001b[1;33m:\u001b[0m\u001b[1;33m\u001b[0m\u001b[1;33m\u001b[0m\u001b[0m\n",
      "\u001b[1;31mValueError\u001b[0m: The truth value of an array with more than one element is ambiguous. Use a.any() or a.all()"
     ]
    }
   ],
   "source": [
    "unique = []\n",
    "for number in input_train:\n",
    "    if number in unique:\n",
    "        continue\n",
    "    else:\n",
    "        unique.append(number)\n",
    "print(unique)"
   ]
  },
  {
   "cell_type": "code",
   "execution_count": 27,
   "metadata": {},
   "outputs": [
    {
     "data": {
      "text/plain": [
       "array([[[0.3254902 , 0.51764706, 0.69803922],\n",
       "        [0.2627451 , 0.44705882, 0.62745098],\n",
       "        [0.23921569, 0.42352941, 0.60392157],\n",
       "        ...,\n",
       "        [0.03529412, 0.10196078, 0.22352941],\n",
       "        [0.0627451 , 0.13333333, 0.25882353],\n",
       "        [0.1372549 , 0.23137255, 0.36862745]],\n",
       "\n",
       "       [[0.29411765, 0.48627451, 0.67843137],\n",
       "        [0.27843137, 0.46666667, 0.65490196],\n",
       "        [0.21568627, 0.40392157, 0.59607843],\n",
       "        ...,\n",
       "        [0.15294118, 0.2627451 , 0.41960784],\n",
       "        [0.03529412, 0.10980392, 0.25490196],\n",
       "        [0.04705882, 0.12156863, 0.25882353]],\n",
       "\n",
       "       [[0.28627451, 0.4745098 , 0.67843137],\n",
       "        [0.26666667, 0.45098039, 0.65098039],\n",
       "        [0.29019608, 0.47843137, 0.6745098 ],\n",
       "        ...,\n",
       "        [0.35686275, 0.51764706, 0.69803922],\n",
       "        [0.20784314, 0.3254902 , 0.49019608],\n",
       "        [0.05490196, 0.13333333, 0.2745098 ]],\n",
       "\n",
       "       ...,\n",
       "\n",
       "       [[0.62352941, 0.73333333, 0.8745098 ],\n",
       "        [0.58823529, 0.57254902, 0.62352941],\n",
       "        [0.74901961, 0.60392157, 0.56078431],\n",
       "        ...,\n",
       "        [0.59607843, 0.51372549, 0.53333333],\n",
       "        [0.67843137, 0.56078431, 0.61960784],\n",
       "        [0.47843137, 0.48235294, 0.58823529]],\n",
       "\n",
       "       [[0.61568627, 0.67058824, 0.79215686],\n",
       "        [0.60784314, 0.52156863, 0.51764706],\n",
       "        [0.71764706, 0.59607843, 0.55294118],\n",
       "        ...,\n",
       "        [0.83529412, 0.65882353, 0.62352941],\n",
       "        [0.76862745, 0.57254902, 0.6       ],\n",
       "        [0.6627451 , 0.61568627, 0.70588235]],\n",
       "\n",
       "       [[0.58823529, 0.62745098, 0.72941176],\n",
       "        [0.60784314, 0.49803922, 0.47843137],\n",
       "        [0.70196078, 0.58431373, 0.54509804],\n",
       "        ...,\n",
       "        [0.83137255, 0.62352941, 0.58039216],\n",
       "        [0.73333333, 0.53333333, 0.52941176],\n",
       "        [0.58039216, 0.52941176, 0.60392157]]])"
      ]
     },
     "execution_count": 27,
     "metadata": {},
     "output_type": "execute_result"
    }
   ],
   "source": [
    "train_images_dev[1]"
   ]
  },
  {
   "cell_type": "code",
   "execution_count": null,
   "metadata": {},
   "outputs": [],
   "source": [
    "#8. Загрузка и нормализация объектов суперкласса household electrical devices из CIFAR-100\n",
    "(train_images_coarse, train_labels_coarse), (test_images_coarse, test_labels_coarse) = cifar100.load_data('coarse')\n",
    "(train_images_fine, train_labels_fine), (test_images_fine, test_labels_fine) = cifar100.load_data('fine')\n",
    "train_images_dev = train_images_fine[(train_labels_coarse == 5).squeeze()]\n",
    "train_labels_dev = train_labels_fine[(train_labels_coarse == 5).squeeze()]\n",
    "train_labels_dev[train_labels_dev==[22]] = 0\n",
    "train_labels_dev[train_labels_dev==[39]] = 1\n",
    "train_labels_dev[train_labels_dev==[40]] = 2\n",
    "train_labels_dev[train_labels_dev==[86]] = 3\n",
    "train_labels_dev[train_labels_dev==[87]] = 4\n",
    "test_images_dev = test_images_fine[(test_labels_coarse == 5).squeeze()]\n",
    "test_labels_dev = test_labels_fine[(test_labels_coarse == 5).squeeze()]\n",
    "test_labels_dev[test_labels_dev==[22]] = 0\n",
    "test_labels_dev[test_labels_dev==[39]] = 1\n",
    "test_labels_dev[test_labels_dev==[40]] = 2\n",
    "test_labels_dev[test_labels_dev==[86]] = 3\n",
    "test_labels_dev[test_labels_dev==[87]] = 4\n",
    "train_images_dev, test_images_dev = train_images_dev / 255.0, test_images_dev / 255.0\n",
    "class_names_dev = ['apples', 'mushrooms', 'oranges', 'pears', 'sweet peppers']\n",
    "plt.figure(figsize=(10,10))\n",
    "for i in range(25):\n",
    "    plt.subplot(5,5,i+1)\n",
    "    plt.xticks([])\n",
    "    plt.yticks([])\n",
    "    plt.grid(False)\n",
    "    plt.imshow(train_images_dev[i], cmap=plt.cm.binary)\n",
    "    plt.xlabel(class_names_dev[train_labels_dev[i][0]])\n",
    "plt.show()"
   ]
  },
  {
   "cell_type": "code",
   "execution_count": null,
   "metadata": {},
   "outputs": [],
   "source": [
    "class_names_all = np.concatenate((class_names, class_names_dev))\n",
    "train_images_all = np.concatenate((train_images, train_images_dev))\n",
    "valid_images_all = np.concatenate((valid_images, valid_images_dev))\n",
    "test_images_all = np.concatenate((test_images, test_images_dev))\n",
    "train_labels_all = np.concatenate((train_labels, train_labels_dev))\n",
    "valid_labels_all = np.concatenate((valid_labels, valid_labels_dev))\n",
    "test_labels_all = np.concatenate((test_labels, test_labels_dev))"
   ]
  },
  {
   "cell_type": "code",
   "execution_count": null,
   "metadata": {},
   "outputs": [],
   "source": [
    "\n",
    "history = model.fit(train_images_all, train_labels_all,\n",
    "                    batch_size=batch_size,\n",
    "                    epochs=2,\n",
    "                    verbose=1,\n",
    "                    validation_data=(train_labels_all, test_labels_all),\n",
    "                    callbacks=[es_cb],\n",
    "                    shuffle=True)"
   ]
  },
  {
   "cell_type": "code",
   "execution_count": null,
   "metadata": {},
   "outputs": [],
   "source": [
    "# reshape testing target to fit to scikit-learn metric form\n",
    "y_testPred = model.predict(x_test)\n",
    "y_testP = []\n",
    "for x in y_testPred:\n",
    "    y_testP.append(x.argmax())\n",
    "y_testP = np.array(y_testP)"
   ]
  },
  {
   "cell_type": "code",
   "execution_count": null,
   "metadata": {},
   "outputs": [],
   "source": [
    "import pandas as pd\n",
    "import seaborn as sn\n",
    "import matplotlib.pyplot as plt\n",
    "from sklearn.metrics import confusion_matrix\n",
    "\n",
    "def print_cmx(y_true, y_pred):\n",
    "    labels = sorted(list(set(y_true)))\n",
    "    cmx_data = confusion_matrix(y_true, y_pred, labels=labels)\n",
    "    \n",
    "    df_cmx = pd.DataFrame(cmx_data, index=labels, columns=labels)\n",
    "\n",
    "    plt.figure(figsize = (10,7))\n",
    "    sn.heatmap(df_cmx, annot=True)\n",
    "    plt.show()"
   ]
  },
  {
   "cell_type": "code",
   "execution_count": null,
   "metadata": {},
   "outputs": [],
   "source": [
    "# get confusion matrix, classification report and accuracy score\n",
    "from sklearn.metrics import classification_report, accuracy_score\n",
    "\n",
    "print_cmx(y_test.T[0], y_testP)\n",
    "print(classification_report(y_test.T[0], y_testP))\n",
    "print(\"Accuracy: {0}\".format(accuracy_score(y_test.T[0], y_testP)))"
   ]
  }
 ],
 "metadata": {
  "kernelspec": {
   "display_name": "Python 3",
   "language": "python",
   "name": "python3"
  },
  "language_info": {
   "codemirror_mode": {
    "name": "ipython",
    "version": 3
   },
   "file_extension": ".py",
   "mimetype": "text/x-python",
   "name": "python",
   "nbconvert_exporter": "python",
   "pygments_lexer": "ipython3",
   "version": "3.7.1"
  }
 },
 "nbformat": 4,
 "nbformat_minor": 2
}
